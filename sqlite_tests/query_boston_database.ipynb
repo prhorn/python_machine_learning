{
 "cells": [
  {
   "cell_type": "code",
   "execution_count": 2,
   "metadata": {
    "collapsed": true
   },
   "outputs": [],
   "source": [
    "import sqlite3\n",
    "import numpy as np\n",
    "conn = sqlite3.connect('boston.db')\n",
    "c = conn.cursor()"
   ]
  },
  {
   "cell_type": "code",
   "execution_count": 14,
   "metadata": {
    "collapsed": false
   },
   "outputs": [],
   "source": [
    "all_data = c.execute('SELECT * from boston').fetchall()"
   ]
  },
  {
   "cell_type": "code",
   "execution_count": 15,
   "metadata": {
    "collapsed": false
   },
   "outputs": [
    {
     "name": "stdout",
     "output_type": "stream",
     "text": [
      "<type 'list'>\n",
      "506\n",
      "<type 'tuple'>\n",
      "14\n"
     ]
    }
   ],
   "source": [
    "print type(all_data)\n",
    "print len(all_data)\n",
    "print type(all_data[0])\n",
    "print len(all_data[0])"
   ]
  },
  {
   "cell_type": "code",
   "execution_count": 17,
   "metadata": {
    "collapsed": false
   },
   "outputs": [],
   "source": [
    "Xy = np.array(all_data)\n",
    "X = Xy[:,:-1]\n",
    "y = Xy[:,-1]"
   ]
  },
  {
   "cell_type": "code",
   "execution_count": 18,
   "metadata": {
    "collapsed": false
   },
   "outputs": [
    {
     "name": "stdout",
     "output_type": "stream",
     "text": [
      "(506, 13)\n",
      "(506,)\n"
     ]
    }
   ],
   "source": [
    "print X.shape\n",
    "print y.shape"
   ]
  },
  {
   "cell_type": "code",
   "execution_count": 3,
   "metadata": {
    "collapsed": false
   },
   "outputs": [],
   "source": [
    "conn.rollback() #revert database to last commit\n",
    "c = conn.cursor()"
   ]
  },
  {
   "cell_type": "code",
   "execution_count": 23,
   "metadata": {
    "collapsed": false
   },
   "outputs": [
    {
     "name": "stdout",
     "output_type": "stream",
     "text": [
      "[(u'table', u'boston', u'boston', 2, u'CREATE TABLE boston (CRIM REAL,ZN REAL,INDUS REAL,CHAS REAL,NOX REAL,RM REAL,AGE REAL,DIS REAL,RAD REAL,TAX REAL,PTRATIO REAL,B REAL,LSTAT REAL,MEDV REAL)')]\n"
     ]
    }
   ],
   "source": [
    "print c.execute('SELECT * FROM sqlite_master').fetchall()"
   ]
  },
  {
   "cell_type": "code",
   "execution_count": 4,
   "metadata": {
    "collapsed": false
   },
   "outputs": [],
   "source": [
    "everything = c.execute('SELECT * from boston')"
   ]
  },
  {
   "cell_type": "code",
   "execution_count": 5,
   "metadata": {
    "collapsed": false
   },
   "outputs": [
    {
     "name": "stdout",
     "output_type": "stream",
     "text": [
      "14\n",
      "['CRIM', 'ZN', 'INDUS', 'CHAS', 'NOX', 'RM', 'AGE', 'DIS', 'RAD', 'TAX', 'PTRATIO', 'B', 'LSTAT', 'MEDV']\n"
     ]
    }
   ],
   "source": [
    "#description returns column names for all columns in last query\n",
    "names = [ i[0] for i in everything.description]\n",
    "print len(names)\n",
    "print names"
   ]
  },
  {
   "cell_type": "code",
   "execution_count": 6,
   "metadata": {
    "collapsed": false
   },
   "outputs": [],
   "source": [
    "medv = c.execute('SELECT MEDV FROM boston').fetchall()"
   ]
  },
  {
   "cell_type": "code",
   "execution_count": 7,
   "metadata": {
    "collapsed": false
   },
   "outputs": [
    {
     "name": "stdout",
     "output_type": "stream",
     "text": [
      "(506, 1)\n"
     ]
    }
   ],
   "source": [
    "medv = np.array(medv)\n",
    "print medv.shape"
   ]
  },
  {
   "cell_type": "code",
   "execution_count": 8,
   "metadata": {
    "collapsed": false
   },
   "outputs": [
    {
     "name": "stdout",
     "output_type": "stream",
     "text": [
      "mean of medv  22.5328063241\n",
      "var of medv  84.5867235941\n"
     ]
    }
   ],
   "source": [
    "mean_medv = np.sum(medv)/float(len(medv))\n",
    "var_medv = np.dot(np.transpose(medv-mean_medv),medv-mean_medv)[0,0]/float(len(medv)-1)\n",
    "print 'mean of medv ',mean_medv\n",
    "print 'var of medv ',var_medv"
   ]
  },
  {
   "cell_type": "code",
   "execution_count": 9,
   "metadata": {
    "collapsed": true
   },
   "outputs": [],
   "source": [
    "tax_low = c.execute('SELECT TAX FROM boston WHERE MEDV<'+str(mean_medv)).fetchall()"
   ]
  },
  {
   "cell_type": "code",
   "execution_count": 10,
   "metadata": {
    "collapsed": true
   },
   "outputs": [],
   "source": [
    "tax_high = c.execute('SELECT TAX FROM boston WHERE MEDV>'+str(mean_medv)).fetchall()"
   ]
  },
  {
   "cell_type": "code",
   "execution_count": 11,
   "metadata": {
    "collapsed": true
   },
   "outputs": [],
   "source": [
    "tax_low = np.array(tax_low)\n",
    "mean_tax_low = np.sum(tax_low)/float(len(tax_low))"
   ]
  },
  {
   "cell_type": "code",
   "execution_count": 12,
   "metadata": {
    "collapsed": true
   },
   "outputs": [],
   "source": [
    "tax_high = np.array(tax_high)\n",
    "mean_tax_high = np.sum(tax_high)/float(len(tax_high))"
   ]
  },
  {
   "cell_type": "code",
   "execution_count": 13,
   "metadata": {
    "collapsed": false
   },
   "outputs": [
    {
     "name": "stdout",
     "output_type": "stream",
     "text": [
      "mean tax for lower than avg medv  465.181818182\n",
      "mean tax for higher than avg medv  327.315789474\n"
     ]
    }
   ],
   "source": [
    "print 'mean tax for lower than avg medv ',mean_tax_low\n",
    "print 'mean tax for higher than avg medv ',mean_tax_high"
   ]
  },
  {
   "cell_type": "code",
   "execution_count": 14,
   "metadata": {
    "collapsed": false
   },
   "outputs": [],
   "source": [
    "unique_chas = c.execute('SELECT DISTINCT CHAS FROM boston').fetchall()"
   ]
  },
  {
   "cell_type": "code",
   "execution_count": 15,
   "metadata": {
    "collapsed": false
   },
   "outputs": [
    {
     "name": "stdout",
     "output_type": "stream",
     "text": [
      "[(0.0,), (1.0,)]\n"
     ]
    }
   ],
   "source": [
    "print unique_chas"
   ]
  },
  {
   "cell_type": "code",
   "execution_count": 16,
   "metadata": {
    "collapsed": true
   },
   "outputs": [],
   "source": [
    "tax_high_1chas = c.execute('SELECT TAX FROM boston WHERE MEDV>'+str(mean_medv)+' AND CHAS = 1.0').fetchall()"
   ]
  },
  {
   "cell_type": "code",
   "execution_count": 17,
   "metadata": {
    "collapsed": true
   },
   "outputs": [],
   "source": [
    "tax_high_0chas = c.execute('SELECT TAX FROM boston WHERE MEDV>'+str(mean_medv)+' AND CHAS = 0.0').fetchall()"
   ]
  },
  {
   "cell_type": "code",
   "execution_count": 18,
   "metadata": {
    "collapsed": true
   },
   "outputs": [],
   "source": [
    "tax_high_1chas = np.array(tax_high_1chas)\n",
    "mean_tax_high_1chas = np.sum(tax_high_1chas)/float(len(tax_high_1chas))"
   ]
  },
  {
   "cell_type": "code",
   "execution_count": 19,
   "metadata": {
    "collapsed": true
   },
   "outputs": [],
   "source": [
    "tax_high_0chas = np.array(tax_high_0chas)\n",
    "mean_tax_high_0chas = np.sum(tax_high_0chas)/float(len(tax_high_0chas))"
   ]
  },
  {
   "cell_type": "code",
   "execution_count": 20,
   "metadata": {
    "collapsed": false
   },
   "outputs": [
    {
     "name": "stdout",
     "output_type": "stream",
     "text": [
      "(209, 20, 189)\n",
      "(327.31578947368422, 366.44999999999999, 323.17460317460319)\n"
     ]
    }
   ],
   "source": [
    "print (len(tax_high),len(tax_high_1chas),len(tax_high_0chas))\n",
    "print (mean_tax_high,mean_tax_high_1chas,mean_tax_high_0chas)"
   ]
  },
  {
   "cell_type": "code",
   "execution_count": 82,
   "metadata": {
    "collapsed": true
   },
   "outputs": [],
   "source": [
    "highest_value_entries = c.execute('SELECT TAX,MEDV FROM boston ORDER BY MEDV DESC, TAX DESC').fetchmany(20)"
   ]
  },
  {
   "cell_type": "code",
   "execution_count": 83,
   "metadata": {
    "collapsed": true
   },
   "outputs": [],
   "source": [
    "highest_value_entries = np.array(highest_value_entries)"
   ]
  },
  {
   "cell_type": "code",
   "execution_count": 84,
   "metadata": {
    "collapsed": false
   },
   "outputs": [
    {
     "name": "stdout",
     "output_type": "stream",
     "text": [
      "[[ 777.7   55. ]\n",
      " [ 777.7   55. ]\n",
      " [ 666.    50. ]\n",
      " [ 666.    50. ]\n",
      " [ 666.    50. ]\n",
      " [ 666.    50. ]\n",
      " [ 666.    50. ]\n",
      " [ 403.    50. ]\n",
      " [ 403.    50. ]\n",
      " [ 403.    50. ]\n",
      " [ 403.    50. ]\n",
      " [ 307.    50. ]\n",
      " [ 264.    50. ]\n",
      " [ 264.    50. ]\n",
      " [ 255.    50. ]\n",
      " [ 224.    50. ]\n",
      " [ 264.    48.8]\n",
      " [ 224.    48.5]\n",
      " [ 307.    48.3]\n",
      " [ 307.    46.7]]\n"
     ]
    }
   ],
   "source": [
    "print highest_value_entries"
   ]
  },
  {
   "cell_type": "code",
   "execution_count": 77,
   "metadata": {
    "collapsed": false
   },
   "outputs": [
    {
     "data": {
      "text/plain": [
       "<sqlite3.Cursor at 0x1069fbf10>"
      ]
     },
     "execution_count": 77,
     "metadata": {},
     "output_type": "execute_result"
    }
   ],
   "source": [
    "c.execute('INSERT INTO boston (TAX,MEDV) VALUES (999.0,77.0)')\n",
    "c.execute('UPDATE boston SET TAX = 777.7,MEDV = 55.0 WHERE (MEDV=50.0 AND TAX<200.0)')"
   ]
  },
  {
   "cell_type": "code",
   "execution_count": 81,
   "metadata": {
    "collapsed": false
   },
   "outputs": [
    {
     "data": {
      "text/plain": [
       "<sqlite3.Cursor at 0x1069fbf10>"
      ]
     },
     "execution_count": 81,
     "metadata": {},
     "output_type": "execute_result"
    }
   ],
   "source": [
    "c.execute('DELETE FROM boston WHERE TAX = 999.0')"
   ]
  },
  {
   "cell_type": "code",
   "execution_count": 87,
   "metadata": {
    "collapsed": false
   },
   "outputs": [],
   "source": [
    "conn.rollback() #revert database to last commit\n",
    "c = conn.cursor()"
   ]
  },
  {
   "cell_type": "code",
   "execution_count": null,
   "metadata": {
    "collapsed": true
   },
   "outputs": [],
   "source": []
  }
 ],
 "metadata": {
  "kernelspec": {
   "display_name": "Python 2",
   "language": "python",
   "name": "python2"
  },
  "language_info": {
   "codemirror_mode": {
    "name": "ipython",
    "version": 2
   },
   "file_extension": ".py",
   "mimetype": "text/x-python",
   "name": "python",
   "nbconvert_exporter": "python",
   "pygments_lexer": "ipython2",
   "version": "2.7.10"
  }
 },
 "nbformat": 4,
 "nbformat_minor": 0
}
