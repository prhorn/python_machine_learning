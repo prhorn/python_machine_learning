{
 "cells": [
  {
   "cell_type": "code",
   "execution_count": 1,
   "metadata": {
    "collapsed": true
   },
   "outputs": [],
   "source": [
    "%matplotlib inline\n",
    "import numpy as np\n",
    "import matplotlib.pyplot as plt\n",
    "from arima_utility import *\n",
    "from arima import ARIMA"
   ]
  },
  {
   "cell_type": "code",
   "execution_count": 2,
   "metadata": {
    "collapsed": true
   },
   "outputs": [],
   "source": [
    "p,d,q = 0,1,1"
   ]
  },
  {
   "cell_type": "code",
   "execution_count": 3,
   "metadata": {
    "collapsed": true
   },
   "outputs": [],
   "source": [
    "time_steps = 2000\n",
    "times = range(time_steps)"
   ]
  },
  {
   "cell_type": "code",
   "execution_count": 4,
   "metadata": {
    "collapsed": false
   },
   "outputs": [
    {
     "name": "stdout",
     "output_type": "stream",
     "text": [
      "generating ARIMA(0,1,1) time series\n"
     ]
    }
   ],
   "source": [
    "print 'generating ARIMA('+str(p)+','+str(d)+','+str(q)+') time series'\n",
    "np.random.seed(11)\n",
    "z,phi,theta,sigma_a_sq = gen_arima_model(p,d,q,time_steps)"
   ]
  },
  {
   "cell_type": "code",
   "execution_count": 5,
   "metadata": {
    "collapsed": false
   },
   "outputs": [
    {
     "name": "stdout",
     "output_type": "stream",
     "text": [
      "=======================================\n",
      "printing parameters for genrated model:\n",
      "     this is sigma_a_sq 1.0\n",
      "     this is theta\n",
      "[0.24421575110141536]\n",
      "=======================================\n"
     ]
    }
   ],
   "source": [
    "print '======================================='\n",
    "print 'printing parameters for genrated model:'\n",
    "print '     this is sigma_a_sq '+str(sigma_a_sq)\n",
    "if (p>0):\n",
    "   print '     this is phi'\n",
    "   print phi\n",
    "if (q>0):\n",
    "   print '     this is theta'\n",
    "   print theta\n",
    "print '======================================='\n"
   ]
  },
  {
   "cell_type": "code",
   "execution_count": 6,
   "metadata": {
    "collapsed": false
   },
   "outputs": [
    {
     "data": {
      "image/png": "[encoded data removed]",
      "text/plain": [
       "<matplotlib.figure.Figure at 0x110378810>"
      ]
     },
     "metadata": {},
     "output_type": "display_data"
    }
   ],
   "source": [
    "fig = plt.figure()\n",
    "ax = fig.add_subplot(111)\n",
    "ax.scatter(times,z,s=10,c='b',marker=\"s\",label='ARIMA('+str(p)+','+str(d)+','+str(q)+')')\n",
    "plt.legend(loc='best');\n",
    "plt.show()"
   ]
  },
  {
   "cell_type": "code",
   "execution_count": 7,
   "metadata": {
    "collapsed": false
   },
   "outputs": [
    {
     "name": "stdout",
     "output_type": "stream",
     "text": [
      "parameters from statsmodels fitting for comparison\n",
      "[ 0.01732119 -0.2274331 ]\n"
     ]
    }
   ],
   "source": [
    "from  statsmodels.tsa import arima_model as am\n",
    "if (d==0):\n",
    "   #test with statsmodels\n",
    "   model = am.ARMA(z,(p,q))\n",
    "   result = model.fit(trend='c',method='mle',disp=-1)\n",
    "   print 'parameters from statsmodels fitting for comparison'\n",
    "   print result.params\n",
    "else:\n",
    "   #test with statsmodels\n",
    "   model = am.ARIMA(z,(p,d,q))\n",
    "   result = model.fit(trend='c',method='mle',disp=-1)\n",
    "   print 'parameters from statsmodels fitting for comparison'\n",
    "   print result.params"
   ]
  },
  {
   "cell_type": "code",
   "execution_count": 8,
   "metadata": {
    "collapsed": true
   },
   "outputs": [],
   "source": [
    "guess_sigma_a_sq = sigma_a_sq\n",
    "if (p>0):\n",
    "   guess_phi = phi #+ 0.01*np.random.random_sample(p)\n",
    "   #guess_phi = result.params[1:1+p]\n",
    "else:\n",
    "   guess_phi = np.empty(0)\n",
    "if (q>0):\n",
    "   guess_theta = theta #+ 0.01*np.random.random_sample(q)\n",
    "   #guess_theta = -1.0*result.params[1+p:]\n",
    "else:\n",
    "   guess_theta = np.empty(0)"
   ]
  },
  {
   "cell_type": "code",
   "execution_count": 9,
   "metadata": {
    "collapsed": false
   },
   "outputs": [
    {
     "name": "stdout",
     "output_type": "stream",
     "text": [
      "beginning minimization of negative of log-likelihood function\n",
      "  1  2835.979641395784  26.878313917  Line Search Step\n",
      "  2  2836.879580144938  51.538879431  Line Search Step\n",
      "  3  2835.737050814819  12.9334431761  BFGS Step\n",
      "  4  2835.661777270151  0.322259595446  BFGS Step\n",
      "  5  2835.661710590405  0.155153479916  BFGS Step\n",
      "  6  2835.661686728265  0.0182446189639  BFGS Step\n",
      "  7  2835.661686537727  4.18039387334e-05  BFGS Step\n",
      "  8  2835.661686537726  9.21838330582e-07  Optimization Converged\n",
      "=======================================\n",
      "printing parameters for fitted model:\n",
      "     this is sigma_a_sq 0.999176935916\n",
      "     this is theta\n",
      "[ 0.22743309]\n",
      "this was mu  0.0173236974772\n",
      "=======================================\n"
     ]
    }
   ],
   "source": [
    "model = ARIMA(p,d,q)\n",
    "model.train(z,guess_phi,guess_theta,guess_sigma_a_sq)\n",
    "\n",
    "print '======================================='\n",
    "print 'printing parameters for fitted model:'\n",
    "print '     this is sigma_a_sq '+str(model.sigma_a_sq)\n",
    "if (p>0):\n",
    "   print '     this is phi'\n",
    "   print model.phi\n",
    "if (q>0):\n",
    "   print '     this is theta'\n",
    "   print model.theta\n",
    "print 'this was mu ',model.mu\n",
    "print '======================================='"
   ]
  },
  {
   "cell_type": "code",
   "execution_count": 10,
   "metadata": {
    "collapsed": false
   },
   "outputs": [
    {
     "data": {
      "image/png": "[encoded data removed]",
      "text/plain": [
       "<matplotlib.figure.Figure at 0x112e14550>"
      ]
     },
     "metadata": {},
     "output_type": "display_data"
    }
   ],
   "source": [
    "fig = plt.figure()\n",
    "ax = fig.add_subplot(111)\n",
    "ax.scatter(range(len(model.a_hat)),model.a_hat,s=10,c='b',marker=\"s\",label='ARIMA('+str(p)+','+str(d)+','+str(q)+') residuals')\n",
    "plt.legend(loc='best');\n",
    "plt.show()"
   ]
  },
  {
   "cell_type": "markdown",
   "metadata": {
    "collapsed": true
   },
   "source": [
    "$P^{\\mu \\nu} = T^{\\mu \\cdot}_{\\cdot i}  T^{\\nu \\cdot}_{\\cdot i}$"
   ]
  },
  {
   "cell_type": "code",
   "execution_count": null,
   "metadata": {
    "collapsed": true
   },
   "outputs": [],
   "source": []
  }
 ],
 "metadata": {
  "kernelspec": {
   "display_name": "Python 2",
   "language": "python",
   "name": "python2"
  },
  "language_info": {
   "codemirror_mode": {
    "name": "ipython",
    "version": 2
   },
   "file_extension": ".py",
   "mimetype": "text/x-python",
   "name": "python",
   "nbconvert_exporter": "python",
   "pygments_lexer": "ipython2",
   "version": "2.7.10"
  }
 },
 "nbformat": 4,
 "nbformat_minor": 0
}
