{
 "cells": [
  {
   "cell_type": "code",
   "execution_count": 63,
   "metadata": {
    "collapsed": false
   },
   "outputs": [],
   "source": [
    "%matplotlib inline\n",
    "import numpy as np\n",
    "import os\n",
    "import sys\n",
    "import math\n",
    "import matplotlib.pyplot as plt\n",
    "sys.path.append(os.getcwd()+'/../')\n",
    "sys.path.append(os.getcwd()+'/../nonlinear_solvers')\n",
    "sys.path.append(os.getcwd()+'/../stat_tests')\n",
    "from lasso import lasso\n",
    "from lars import LARS\n",
    "\n",
    "\n",
    "\n",
    "rootdir=os.getcwd()\n",
    "\n",
    "DatapointEnergies=np.loadtxt(open(rootdir+'/SR_LSDAPW92VV10_w0p3-cx0p15-4258_QZVPPD_250974_Energies.csv'))\n",
    "DatapointJacobian=np.loadtxt(open(rootdir+'/SR_LSDAPW92VV10_w0p3-cx0p15-4258_QZVPPD_250974_Jacobian.csv'),delimiter=\",\")\n",
    "RefValues=np.loadtxt(open(rootdir+'/Reference_New.csv'))\n",
    "WTrainDiagonal=np.loadtxt(open(rootdir+'/WTrainDiagonal_Attempt26.csv'))\n",
    "WTotalDiagonal=np.loadtxt(open(rootdir+'/WTotalDiagonal_Attempt26.csv'))"
   ]
  },
  {
   "cell_type": "code",
   "execution_count": 64,
   "metadata": {
    "collapsed": false
   },
   "outputs": [],
   "source": [
    "W = np.array(WTrainDiagonal)\n",
    "W_test = np.array(WTotalDiagonal - WTrainDiagonal)"
   ]
  },
  {
   "cell_type": "code",
   "execution_count": 65,
   "metadata": {
    "collapsed": false
   },
   "outputs": [
    {
     "name": "stdout",
     "output_type": "stream",
     "text": [
      "(3835,)\n"
     ]
    }
   ],
   "source": [
    "y = np.array(RefValues - DatapointEnergies)\n",
    "#this seems correct. LARS is written in terms of X and residuals, so we should be able to just pre-weight X and y\n",
    "wy = np.dot(np.diag(np.power(W,0.5)),y)\n",
    "print wy.shape"
   ]
  },
  {
   "cell_type": "code",
   "execution_count": 66,
   "metadata": {
    "collapsed": false
   },
   "outputs": [
    {
     "name": "stdout",
     "output_type": "stream",
     "text": [
      "(3835, 76)\n"
     ]
    }
   ],
   "source": [
    "X = np.array(DatapointJacobian)\n",
    "#X = np.column_stack((X[:,1:45],X[:,46:90],X[:,91:135] ))\n",
    "meta_space = [1,2,9,10,11,18,19,20,46,47,48,49,50,51,54,55,56,57,58,59,60,63,64,65,66,67,68,69,72,73,74,75,76,77,78,81,82,83,84,85,86,87,91,92,93,94,95,96,99,100,101,102,103,104,105,108,109,110,111,112,113,114,117,118,119,120,121,122,123,126,127,128,129,130,131,132]\n",
    "X = X[:,meta_space]\n",
    "gga_space = [9,18,27,36,54,63,72,81,99,108,117,126]\n",
    "#X = X[:,gga_space]\n",
    "wX = np.dot(np.diag(np.power(W,0.5)),X)\n",
    "print wX.shape\n"
   ]
  },
  {
   "cell_type": "code",
   "execution_count": 67,
   "metadata": {
    "collapsed": false
   },
   "outputs": [
    {
     "name": "stdout",
     "output_type": "stream",
     "text": [
      "the eigenvalues of the metric\n",
      "[  5.45722716e+01   1.39364677e+01   4.85955298e+00   1.05294554e+00\n",
      "   2.71119807e-01   1.27032488e-01   3.12488249e-02   2.11304054e-02\n",
      "   1.22640940e-02   5.36030169e-03   3.09266206e-03   2.19789607e-03\n",
      "   1.94299201e-03   1.03096045e-03   4.07759408e-04   3.47316062e-04\n",
      "   2.08373692e-04   1.17799571e-04   9.16315944e-05   7.30994142e-05\n",
      "   5.33841976e-05   4.17851828e-05   3.64643346e-05   1.99153279e-05\n",
      "   1.64217516e-05   1.20066426e-05   8.95217271e-06   6.23401569e-06\n",
      "   4.18979689e-06   3.30812350e-06   2.65221870e-06   1.79745278e-06\n",
      "   1.15099836e-06   6.09387625e-07   5.53202874e-07   4.80876458e-07\n",
      "   3.29479518e-07   2.55540992e-07   1.73612849e-07   1.50550859e-07\n",
      "   1.21378623e-07   8.59354769e-08   6.26577789e-08   3.77379538e-08\n",
      "   2.78074821e-08   2.70508379e-08   1.86621998e-08   1.04515600e-08\n",
      "   7.68302556e-09   6.12914080e-09   3.91369303e-09   3.32188793e-09\n",
      "   1.68762176e-09   1.14277629e-09   8.05531289e-10   6.91407523e-10\n",
      "   4.47570860e-10   2.74389981e-10   1.78087387e-10   1.05925578e-10\n",
      "   7.77480861e-11   6.08574039e-11   5.54676827e-11   2.77873184e-11\n",
      "   1.32289911e-11   8.88199881e-12   7.21705500e-12   1.82655515e-12\n",
      "   1.17622288e-12   6.72157888e-13   3.96485013e-13   1.60315342e-13\n",
      "   1.29123837e-13   5.90868547e-14   1.56341085e-14   4.98938439e-15]\n",
      "2.22044604925e-16\n",
      "number of nonzero  48\n",
      "(76,)\n",
      "[  2.73881001e-01   9.52679696e-02   9.63055327e-01  -2.42365657e+00\n",
      "  -1.53806221e+00  -1.42610620e+00   1.41404577e+01   1.92887273e+01\n",
      "   2.35669306e+01  -3.56689541e+01  -9.55630170e+01   1.63934333e+02\n",
      "   1.08534894e+02  -2.51550976e+02  -6.79875050e+00  -2.57685895e+02\n",
      "   1.14326525e+02   8.26979304e+02  -8.08408119e+02  -4.48672379e+02\n",
      "   1.34993097e+03   2.56169538e+01   9.11543371e+02   7.17630920e+01\n",
      "  -2.56986053e+03   1.19019542e+03   8.33084778e+02  -3.15185303e+03\n",
      "  -3.53205723e+01  -1.26031491e+03  -6.95669716e+02   3.19608767e+03\n",
      "   5.14608887e+02   4.21912842e+01   2.77967773e+03   1.60044419e+01\n",
      "   6.01799208e+02   5.96080029e+02  -1.35181993e+03  -1.27843629e+03\n",
      "  -9.13487854e+02  -8.92030762e+02  -5.85409794e+00   1.83364407e+01\n",
      "   2.88090938e+00  -4.38219715e+01  -2.02760118e+01   6.40621325e+01\n",
      "  -5.39444863e+00   2.10714483e+00  -2.33342581e+02  -1.13170583e+02\n",
      "   2.25457428e+02  -5.56783703e+02  -8.73666397e+02   3.45440391e+01\n",
      "  -1.17774773e+01   1.19635866e+03   2.95004930e+03   6.52181969e+03\n",
      "   1.23126154e+04   7.77244688e+03  -1.30197012e+02  -9.77025604e+02\n",
      "  -5.55325409e+03  -3.96923373e+03   1.01762987e+04   1.00225681e+04\n",
      "   5.18738876e+02   1.04514696e+02   9.59058945e+02   5.09692072e+03\n",
      "   8.13500214e+03   5.43368967e+03   5.19977357e+03   3.61724808e+03]\n"
     ]
    }
   ],
   "source": [
    "metric = np.dot(np.transpose(X),np.dot(np.diag(W),X))\n",
    "U,s,V = np.linalg.svd(metric) #NB svals are decreasing\n",
    "print 'the eigenvalues of the metric'\n",
    "print s\n",
    "print(np.finfo(float).eps)\n",
    "tol = 1.0E-8\n",
    "n_indep = s.size\n",
    "for i in s:\n",
    "    if (i < tol):\n",
    "        n_indep = n_indep - 1\n",
    "print 'number of nonzero ',n_indep\n",
    "if n_indep > 0:\n",
    "    metric_inv = np.dot(U[:,:n_indep],np.dot(np.diag(s[:n_indep]**-1),np.transpose(U[:,:n_indep])))\n",
    "else:\n",
    "    print 'poorly posed problem in linear_regression'\n",
    "    sys.exit(1)\n",
    "#beta = np.dot(metric_inv,np.dot(np.transpose(X),np.dot(np.diag(W),y)))\n",
    "beta = np.dot(np.linalg.pinv(metric),np.dot(np.transpose(X),np.dot(np.diag(W),y)))\n",
    "print beta.shape\n",
    "print beta"
   ]
  },
  {
   "cell_type": "code",
   "execution_count": 75,
   "metadata": {
    "collapsed": false
   },
   "outputs": [
    {
     "name": "stdout",
     "output_type": "stream",
     "text": [
      "[  6.07251799e-01  -1.47607404e-02   9.96527772e-01  -5.13421223e+00\n",
      "  -1.48343027e+01   5.70108951e+00   0.00000000e+00   6.01595023e+00\n",
      "   8.52339729e+00   0.00000000e+00   0.00000000e+00   0.00000000e+00\n",
      "   0.00000000e+00   0.00000000e+00   0.00000000e+00   0.00000000e+00\n",
      "   0.00000000e+00   0.00000000e+00   0.00000000e+00   0.00000000e+00\n",
      "   0.00000000e+00   0.00000000e+00   0.00000000e+00   0.00000000e+00\n",
      "   0.00000000e+00   0.00000000e+00   0.00000000e+00   0.00000000e+00\n",
      "   0.00000000e+00   0.00000000e+00   0.00000000e+00   0.00000000e+00\n",
      "   0.00000000e+00   0.00000000e+00   0.00000000e+00   0.00000000e+00\n",
      "   0.00000000e+00   0.00000000e+00   0.00000000e+00   0.00000000e+00\n",
      "   0.00000000e+00   0.00000000e+00  -1.02863799e+01   1.81121971e-01\n",
      "   0.00000000e+00  -6.28293852e+00   4.30037514e+00   0.00000000e+00\n",
      "  -5.67807413e+00   0.00000000e+00   0.00000000e+00   0.00000000e+00\n",
      "   0.00000000e+00   0.00000000e+00   5.45204919e+01   0.00000000e+00\n",
      "   0.00000000e+00   0.00000000e+00   0.00000000e+00   0.00000000e+00\n",
      "   0.00000000e+00   0.00000000e+00   0.00000000e+00   0.00000000e+00\n",
      "   0.00000000e+00   0.00000000e+00   0.00000000e+00   0.00000000e+00\n",
      "  -1.85476673e+02   0.00000000e+00   0.00000000e+00   0.00000000e+00\n",
      "   0.00000000e+00   0.00000000e+00   0.00000000e+00   1.49700115e+02]\n",
      "1\n",
      "2\n",
      "9\n",
      "10\n",
      "11\n",
      "18\n",
      "20\n",
      "46\n",
      "91\n",
      "92\n",
      "94\n",
      "95\n",
      "99\n",
      "105\n",
      "123\n",
      "132\n"
     ]
    }
   ],
   "source": [
    "from sklearn import linear_model\n",
    "clf = linear_model.Lars(n_nonzero_coefs=20)\n",
    "clf.fit(wX,wy)\n",
    "print clf.coef_\n",
    "for i in range(len(clf.coef_)):\n",
    "    if clf.coef_[i]<-0.0000001 or clf.coef_[i]>0.00000001:\n",
    "        print meta_space[i]"
   ]
  },
  {
   "cell_type": "code",
   "execution_count": 85,
   "metadata": {
    "collapsed": false
   },
   "outputs": [
    {
     "name": "stdout",
     "output_type": "stream",
     "text": [
      "[ 0.08891135  0.20160121  0.66126172  0.         -0.50401501  0.          0.\n",
      "  2.09957722 -2.50299598 -3.15392618  0.          3.43224612 -1.0601841   0.\n",
      " -0.87061023  0.14043362  0.          0.          0.          0.          0.\n",
      "  0.21719579  0.          0.          0.          0.          0.          0.\n",
      "  0.          0.          0.          0.          0.          0.          0.\n",
      "  0.          0.         -1.75627249  0.          0.          0.          0.\n",
      "  0.          1.24708816  0.          0.          0.          0.\n",
      " -1.18918831  0.         -1.27211122  0.          0.          0.          0.\n",
      "  0.          0.          0.          0.          0.          0.          0.\n",
      "  0.          0.          0.          0.          0.          0.          0.\n",
      "  0.          0.          0.          0.          0.          0.          1.6374267 ]\n",
      "1\n",
      "2\n",
      "9\n",
      "11\n",
      "20\n",
      "46\n",
      "47\n",
      "49\n",
      "50\n",
      "54\n",
      "55\n",
      "63\n",
      "83\n",
      "92\n",
      "99\n",
      "101\n",
      "132\n"
     ]
    }
   ],
   "source": [
    "clf = linear_model.LassoLars(alpha=0)\n",
    "clf.fit(wX,wy)  \n",
    "print clf.coef_\n",
    "for i in range(len(clf.coef_)):\n",
    "    if clf.coef_[i]<-0.0000001 or clf.coef_[i]>0.00000001:\n",
    "        print meta_space[i]"
   ]
  },
  {
   "cell_type": "code",
   "execution_count": 69,
   "metadata": {
    "collapsed": false
   },
   "outputs": [
    {
     "name": "stdout",
     "output_type": "stream",
     "text": [
      "pseudoinverse of G was poor\n",
      "pseudoinverse of G was poor\n",
      "pseudoinverse of G was poor\n",
      "we seem to be unable to progress though we have not included all parameters\n",
      "printing indices used throughout iterations\n",
      "[[], [2, 8], [2, 8, 4], [2, 8, 4, 48], [2, 8, 4, 48, 43], [2, 8, 4, 48, 43, 68], [2, 8, 4, 48, 43, 68, 75], [2, 8, 4, 48, 43, 68, 75, 0], [2, 8, 4, 48, 43, 68, 75, 0, 9], [2, 8, 4, 48, 43, 68, 75, 0, 9, 14], [2, 8, 4, 48, 43, 68, 75, 0, 9, 14, 5], [2, 8, 4, 48, 43, 68, 75, 0, 9, 14, 5, 1], [2, 8, 4, 48, 43, 68, 75, 0, 9, 14, 5, 1, 44], [2, 8, 4, 48, 43, 68, 75, 0, 9, 14, 5, 1, 44, 35], [2, 8, 4, 48, 43, 68, 75, 0, 9, 14, 5, 1, 44, 35, 7], [2, 8, 4, 48, 43, 68, 75, 0, 9, 14, 5, 1, 44, 35, 7, 36], [2, 8, 4, 48, 43, 68, 75, 0, 9, 14, 5, 1, 44, 35, 7, 36, 3], [2, 8, 4, 48, 43, 68, 75, 0, 9, 14, 5, 1, 44, 35, 7, 36, 3, 29], [2, 8, 4, 48, 43, 68, 75, 0, 9, 14, 5, 1, 44, 35, 7, 36, 3, 29, 45], [2, 8, 4, 48, 43, 68, 75, 0, 9, 14, 5, 1, 44, 35, 7, 36, 3, 29, 45, 47], [2, 8, 4, 48, 43, 68, 75, 0, 9, 14, 5, 1, 44, 35, 7, 36, 3, 29, 45, 47, 42], [2, 8, 4, 48, 43, 68, 75, 0, 9, 14, 5, 1, 44, 35, 7, 36, 3, 29, 45, 47, 42, 22], [2, 8, 4, 48, 43, 68, 75, 0, 9, 14, 5, 1, 44, 35, 7, 36, 3, 29, 45, 47, 42, 22, 46], [2, 8, 4, 48, 43, 68, 75, 0, 9, 14, 5, 1, 44, 35, 7, 36, 3, 29, 45, 47, 42, 22, 46, 66], [2, 8, 4, 48, 43, 68, 75, 0, 9, 14, 5, 1, 44, 35, 7, 36, 3, 29, 45, 47, 42, 22, 46, 66, 72], [2, 8, 4, 48, 43, 68, 75, 0, 9, 14, 5, 1, 44, 35, 7, 36, 3, 29, 45, 47, 42, 22, 46, 66, 72, 73], [2, 8, 4, 48, 43, 68, 75, 0, 9, 14, 5, 1, 44, 35, 7, 36, 3, 29, 45, 47, 42, 22, 46, 66, 72, 73, 67], [2, 8, 4, 48, 43, 68, 75, 0, 9, 14, 5, 1, 44, 35, 7, 36, 3, 29, 45, 47, 42, 22, 46, 66, 72, 73, 67, 71], [2, 8, 4, 48, 43, 68, 75, 0, 9, 14, 5, 1, 44, 35, 7, 36, 3, 29, 45, 47, 42, 22, 46, 66, 72, 73, 67, 71, 74]]\n"
     ]
    }
   ],
   "source": [
    "#LARS\n",
    "lars_obj = LARS(wX,wy,0)\n",
    "lars_obj.train()"
   ]
  },
  {
   "cell_type": "code",
   "execution_count": 71,
   "metadata": {
    "collapsed": false
   },
   "outputs": [
    {
     "name": "stdout",
     "output_type": "stream",
     "text": [
      "0.0668759810369\n",
      "[  4.15001526e-01  -1.29609456e+00   1.76419985e+00  -2.14241477e+00\n",
      "   2.06314046e+00  -1.08018335e+01   1.49396617e+01  -1.66792823e-03\n",
      "  -1.72227289e+00]\n",
      "[9, 46, 11, 99, 92, 123, 132, 1, 47]\n"
     ]
    }
   ],
   "source": [
    "trial_set = [2, 8, 4, 48, 43, 68, 75, 0, 9]\n",
    "X_small = X[:,trial_set]\n",
    "metric = np.dot(np.transpose(X_small),np.dot(np.diag(W),X_small))\n",
    "beta = np.dot(np.linalg.pinv(metric),np.dot(np.transpose(X_small),np.dot(np.diag(W),y)))\n",
    "res = np.dot(X_small,beta) - y\n",
    "wrms = np.dot(res,np.dot(np.diag(W),res))\n",
    "print wrms\n",
    "print beta\n",
    "print [meta_space[i] for i in trial_set] "
   ]
  },
  {
   "cell_type": "code",
   "execution_count": 60,
   "metadata": {
    "collapsed": false,
    "scrolled": true
   },
   "outputs": [
    {
     "name": "stdout",
     "output_type": "stream",
     "text": [
      "[2.9105266668670868, 0.86183168531184062, 0.41389558441604968, -0.090158485133081348, 0.38981783060914338, 0.13376162087393145, 0.1123715450269879, 0.054184938857704992, 0.018068393121451129, -0.015266848892372826, -0.077060882114847365, 0.37770121105328835, 0.16660616629363534, -0.10971527209262001, 0.35517930301656137, 0.16000747525323311, 0.10019459555498617, 0.070349380213709525, 0.040763301231997659, -0.022007668471060345, 0.060103854163480769, -0.02247536641954526, -0.10806648122103049, 11.340691404753201, -8.0114812264570752, -2066.7449781485507, -2813719.1958114984, -3098300109.200057, -51726496992522.328]\n"
     ]
    },
    {
     "data": {
      "image/png": "[encoded data removed]",
      "text/plain": [
       "<matplotlib.figure.Figure at 0x110299c10>"
      ]
     },
     "metadata": {},
     "output_type": "display_data"
    }
   ],
   "source": [
    "print lars_obj.max_corr_vs_iter\n",
    "lars_obj.make_plots()"
   ]
  },
  {
   "cell_type": "code",
   "execution_count": 61,
   "metadata": {
    "collapsed": false
   },
   "outputs": [
    {
     "data": {
      "image/png": "[encoded data removed]",
      "text/plain": [
       "<matplotlib.figure.Figure at 0x117cc3690>"
      ]
     },
     "metadata": {},
     "output_type": "display_data"
    }
   ],
   "source": [
    "fig = plt.figure()\n",
    "ax = fig.add_subplot(111)\n",
    "for i in range(lars_obj.m):\n",
    "      ax.plot(range(4),lars_obj.coefs_vs_iter[i][:4],'xb-',label=\"Coefficient \"+str(i))\n",
    "plt.show()"
   ]
  },
  {
   "cell_type": "code",
   "execution_count": 62,
   "metadata": {
    "collapsed": false
   },
   "outputs": [
    {
     "ename": "KeyboardInterrupt",
     "evalue": "",
     "output_type": "error",
     "traceback": [
      "\u001b[0;31m---------------------------------------------------------------------------\u001b[0m",
      "\u001b[0;31mKeyboardInterrupt\u001b[0m                         Traceback (most recent call last)",
      "\u001b[0;32m<ipython-input-62-893852d3f509>\u001b[0m in \u001b[0;36m<module>\u001b[0;34m()\u001b[0m\n\u001b[1;32m      1\u001b[0m \u001b[0;31m#lasso\u001b[0m\u001b[0;34m\u001b[0m\u001b[0;34m\u001b[0m\u001b[0m\n\u001b[1;32m      2\u001b[0m \u001b[0mlasso_obj\u001b[0m \u001b[0;34m=\u001b[0m \u001b[0mLARS\u001b[0m\u001b[0;34m(\u001b[0m\u001b[0mwX\u001b[0m\u001b[0;34m,\u001b[0m\u001b[0mwy\u001b[0m\u001b[0;34m,\u001b[0m\u001b[0;36m1\u001b[0m\u001b[0;34m)\u001b[0m\u001b[0;34m\u001b[0m\u001b[0m\n\u001b[0;32m----> 3\u001b[0;31m \u001b[0mlasso_obj\u001b[0m\u001b[0;34m.\u001b[0m\u001b[0mtrain\u001b[0m\u001b[0;34m(\u001b[0m\u001b[0;34m)\u001b[0m\u001b[0;34m\u001b[0m\u001b[0m\n\u001b[0m",
      "\u001b[0;32m/Users/prhorn/data_science/machine_learning_python/dft/../lars.pyc\u001b[0m in \u001b[0;36mtrain\u001b[0;34m(self)\u001b[0m\n\u001b[1;32m    204\u001b[0m          \u001b[0mbeta_list\u001b[0m\u001b[0;34m.\u001b[0m\u001b[0mappend\u001b[0m\u001b[0;34m(\u001b[0m\u001b[0mnp\u001b[0m\u001b[0;34m.\u001b[0m\u001b[0marray\u001b[0m\u001b[0;34m(\u001b[0m\u001b[0mself\u001b[0m\u001b[0;34m.\u001b[0m\u001b[0mbeta\u001b[0m\u001b[0;34m)\u001b[0m\u001b[0;34m)\u001b[0m\u001b[0;34m\u001b[0m\u001b[0m\n\u001b[1;32m    205\u001b[0m          \u001b[0mactive_list\u001b[0m\u001b[0;34m.\u001b[0m\u001b[0mappend\u001b[0m\u001b[0;34m(\u001b[0m\u001b[0mcopy\u001b[0m\u001b[0;34m(\u001b[0m\u001b[0mself\u001b[0m\u001b[0;34m.\u001b[0m\u001b[0mactive_indices\u001b[0m\u001b[0;34m)\u001b[0m\u001b[0;34m)\u001b[0m\u001b[0;34m\u001b[0m\u001b[0m\n\u001b[0;32m--> 206\u001b[0;31m          \u001b[0mkeep_going\u001b[0m\u001b[0;34m,\u001b[0m\u001b[0mC\u001b[0m \u001b[0;34m=\u001b[0m \u001b[0mself\u001b[0m\u001b[0;34m.\u001b[0m\u001b[0mnext_step\u001b[0m\u001b[0;34m(\u001b[0m\u001b[0;34m)\u001b[0m\u001b[0;34m\u001b[0m\u001b[0m\n\u001b[0m\u001b[1;32m    207\u001b[0m          \u001b[0mC_list\u001b[0m\u001b[0;34m.\u001b[0m\u001b[0mappend\u001b[0m\u001b[0;34m(\u001b[0m\u001b[0mC\u001b[0m\u001b[0;34m)\u001b[0m\u001b[0;34m\u001b[0m\u001b[0m\n\u001b[1;32m    208\u001b[0m       \u001b[0;31m#get last C to confirm zero\u001b[0m\u001b[0;34m\u001b[0m\u001b[0;34m\u001b[0m\u001b[0m\n",
      "\u001b[0;32m/Users/prhorn/data_science/machine_learning_python/dft/../lars.pyc\u001b[0m in \u001b[0;36mnext_step\u001b[0;34m(self)\u001b[0m\n\u001b[1;32m    103\u001b[0m          \u001b[0;32mprint\u001b[0m \u001b[0ms_active\u001b[0m\u001b[0;34m\u001b[0m\u001b[0m\n\u001b[1;32m    104\u001b[0m \u001b[0;34m\u001b[0m\u001b[0m\n\u001b[0;32m--> 105\u001b[0;31m       \u001b[0mX_active\u001b[0m \u001b[0;34m=\u001b[0m \u001b[0mself\u001b[0m\u001b[0;34m.\u001b[0m\u001b[0mX\u001b[0m\u001b[0;34m[\u001b[0m\u001b[0;34m:\u001b[0m\u001b[0;34m,\u001b[0m\u001b[0mself\u001b[0m\u001b[0;34m.\u001b[0m\u001b[0mactive_indices\u001b[0m\u001b[0;34m]\u001b[0m\u001b[0;34m\u001b[0m\u001b[0m\n\u001b[0m\u001b[1;32m    106\u001b[0m       \u001b[0;32mfor\u001b[0m \u001b[0mi\u001b[0m \u001b[0;32min\u001b[0m \u001b[0mrange\u001b[0m\u001b[0;34m(\u001b[0m\u001b[0mX_active\u001b[0m\u001b[0;34m.\u001b[0m\u001b[0mshape\u001b[0m\u001b[0;34m[\u001b[0m\u001b[0;36m1\u001b[0m\u001b[0;34m]\u001b[0m\u001b[0;34m)\u001b[0m\u001b[0;34m:\u001b[0m\u001b[0;34m\u001b[0m\u001b[0m\n\u001b[1;32m    107\u001b[0m          \u001b[0;32mif\u001b[0m \u001b[0ms_active\u001b[0m\u001b[0;34m[\u001b[0m\u001b[0mi\u001b[0m\u001b[0;34m]\u001b[0m \u001b[0;34m<\u001b[0m \u001b[0;36m0.0\u001b[0m\u001b[0;34m:\u001b[0m\u001b[0;34m\u001b[0m\u001b[0m\n",
      "\u001b[0;31mKeyboardInterrupt\u001b[0m: "
     ]
    }
   ],
   "source": [
    "#lasso\n",
    "lasso_obj = LARS(wX,wy,1)\n",
    "lasso_obj.train()"
   ]
  },
  {
   "cell_type": "code",
   "execution_count": 25,
   "metadata": {
    "collapsed": false
   },
   "outputs": [
    {
     "data": {
      "image/png": "[encoded data removed]",
      "text/plain": [
       "<matplotlib.figure.Figure at 0x118748c50>"
      ]
     },
     "metadata": {},
     "output_type": "display_data"
    }
   ],
   "source": [
    "lasso_obj.make_plots()"
   ]
  },
  {
   "cell_type": "code",
   "execution_count": 26,
   "metadata": {
    "collapsed": false
   },
   "outputs": [
    {
     "data": {
      "image/png": "[encoded data removed]",
      "text/plain": [
       "<matplotlib.figure.Figure at 0x118621410>"
      ]
     },
     "metadata": {},
     "output_type": "display_data"
    }
   ],
   "source": [
    "fig = plt.figure()\n",
    "ax = fig.add_subplot(111)\n",
    "for i in range(lasso_obj.m):\n",
    "      ax.plot(range(4),lasso_obj.coefs_vs_iter[i][:4],'xb-',label=\"Coefficient \"+str(i))\n",
    "plt.show()"
   ]
  },
  {
   "cell_type": "code",
   "execution_count": null,
   "metadata": {
    "collapsed": true
   },
   "outputs": [],
   "source": []
  }
 ],
 "metadata": {
  "kernelspec": {
   "display_name": "Python 2",
   "language": "python",
   "name": "python2"
  },
  "language_info": {
   "codemirror_mode": {
    "name": "ipython",
    "version": 2
   },
   "file_extension": ".py",
   "mimetype": "text/x-python",
   "name": "python",
   "nbconvert_exporter": "python",
   "pygments_lexer": "ipython2",
   "version": "2.7.10"
  }
 },
 "nbformat": 4,
 "nbformat_minor": 0
}
