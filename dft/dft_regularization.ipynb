{
 "cells": [
  {
   "cell_type": "code",
   "execution_count": 15,
   "metadata": {
    "collapsed": false
   },
   "outputs": [],
   "source": [
    "%matplotlib inline\n",
    "import numpy as np\n",
    "import os\n",
    "import sys\n",
    "import math\n",
    "import matplotlib.pyplot as plt\n",
    "sys.path.append(os.getcwd()+'/../')\n",
    "sys.path.append(os.getcwd()+'/../nonlinear_solvers')\n",
    "sys.path.append(os.getcwd()+'/../stat_tests')\n",
    "from lasso import lasso\n",
    "from lars import LARS\n",
    "\n",
    "\n",
    "\n",
    "rootdir=os.getcwd()\n",
    "\n",
    "DatapointEnergies=np.loadtxt(open(rootdir+'/SR_LSDAPW92VV10_w0p3-cx0p15-4258_QZVPPD_250974_Energies.csv'))\n",
    "DatapointJacobian=np.loadtxt(open(rootdir+'/SR_LSDAPW92VV10_w0p3-cx0p15-4258_QZVPPD_250974_Jacobian.csv'),delimiter=\",\")\n",
    "RefValues=np.loadtxt(open(rootdir+'/Reference_New.csv'))\n",
    "WTrainDiagonal=np.loadtxt(open(rootdir+'/WTrainDiagonal_Attempt26.csv'))\n",
    "WTotalDiagonal=np.loadtxt(open(rootdir+'/WTotalDiagonal_Attempt26.csv'))"
   ]
  },
  {
   "cell_type": "code",
   "execution_count": 16,
   "metadata": {
    "collapsed": false
   },
   "outputs": [],
   "source": [
    "W = np.array(WTrainDiagonal)\n",
    "W_test = np.array(WTotalDiagonal - WTrainDiagonal)"
   ]
  },
  {
   "cell_type": "code",
   "execution_count": 17,
   "metadata": {
    "collapsed": false
   },
   "outputs": [
    {
     "name": "stdout",
     "output_type": "stream",
     "text": [
      "(3835,)\n"
     ]
    }
   ],
   "source": [
    "y = np.array(RefValues - DatapointEnergies)\n",
    "#this seems correct. LARS is written in terms of X and residuals, so we should be able to just pre-weight X and y\n",
    "wy = np.dot(np.diag(np.power(W,0.5)),y)\n",
    "print wy.shape"
   ]
  },
  {
   "cell_type": "code",
   "execution_count": 18,
   "metadata": {
    "collapsed": false
   },
   "outputs": [
    {
     "name": "stdout",
     "output_type": "stream",
     "text": [
      "(3835, 14)\n"
     ]
    }
   ],
   "source": [
    "X = np.array(DatapointJacobian)\n",
    "#X = np.column_stack((X[:,1:45],X[:,46:90],X[:,91:135] ))\n",
    "meta_space = [1,2,9,10,11,18,19,20,46,47,48,49,50,51,54,55,56,57,58,59,60,63,64,65,66,67,68,69,72,73,74,75,76,77,78,81,82,83,84,85,86,87,91,92,93,94,95,96,99,100,101,102,103,104,105,108,109,110,111,112,113,114,117,118,119,120,121,122,123,126,127,128,129,130,131,132]\n",
    "#X = X[:,meta_space]\n",
    "gga_space = [9,18,27,36,54,63,72,81,99,108,117,126,45,90]\n",
    "X = X[:,gga_space]\n",
    "wX = np.dot(np.diag(np.power(W,0.5)),X)\n",
    "print wX.shape\n"
   ]
  },
  {
   "cell_type": "code",
   "execution_count": 19,
   "metadata": {
    "collapsed": false
   },
   "outputs": [
    {
     "name": "stdout",
     "output_type": "stream",
     "text": [
      "the eigenvalues of the metric\n",
      "[  3.60363153e+01   1.33264227e+01   1.77534002e+00   2.86861977e-01\n",
      "   6.53471838e-02   1.97665219e-02   6.35272061e-03   4.76488621e-03\n",
      "   3.23647965e-04   1.29692802e-04   4.00026795e-05   2.21380353e-06\n",
      "   4.36907480e-07   8.92506652e-08]\n",
      "2.22044604925e-16\n",
      "number of nonzero  14\n",
      "(14,)\n",
      "[  0.52970766   4.06109833 -12.80454202  16.18475289  -0.78856821\n",
      "   5.71155635  -7.53672477   2.51557603  -1.89749629   2.999163\n",
      "  -6.97817294   3.19076171  -1.03371051   0.25474163]\n"
     ]
    }
   ],
   "source": [
    "metric = np.dot(np.transpose(X),np.dot(np.diag(W),X))\n",
    "U,s,V = np.linalg.svd(metric) #NB svals are decreasing\n",
    "print 'the eigenvalues of the metric'\n",
    "print s\n",
    "print(np.finfo(float).eps)\n",
    "tol = 1.0E-8\n",
    "n_indep = s.size\n",
    "for i in s:\n",
    "    if (i < tol):\n",
    "        n_indep = n_indep - 1\n",
    "print 'number of nonzero ',n_indep\n",
    "if n_indep > 0:\n",
    "    metric_inv = np.dot(U[:,:n_indep],np.dot(np.diag(s[:n_indep]**-1),np.transpose(U[:,:n_indep])))\n",
    "else:\n",
    "    print 'poorly posed problem in linear_regression'\n",
    "    sys.exit(1)\n",
    "#beta = np.dot(metric_inv,np.dot(np.transpose(X),np.dot(np.diag(W),y)))\n",
    "beta = np.dot(np.linalg.pinv(metric),np.dot(np.transpose(X),np.dot(np.diag(W),y)))\n",
    "print beta.shape\n",
    "print beta"
   ]
  },
  {
   "cell_type": "code",
   "execution_count": 20,
   "metadata": {
    "collapsed": false
   },
   "outputs": [
    {
     "name": "stdout",
     "output_type": "stream",
     "text": [
      "we seem to be unable to progress though we have not included all parameters\n",
      "printing indices used throughout iterations\n",
      "[[], [0, 6], [0, 6, 1], [0, 6, 1, 13]]\n"
     ]
    }
   ],
   "source": [
    "#LARS\n",
    "lars_obj = LARS(wX,wy,0)\n",
    "lars_obj.train()"
   ]
  },
  {
   "cell_type": "code",
   "execution_count": 21,
   "metadata": {
    "collapsed": false
   },
   "outputs": [
    {
     "name": "stdout",
     "output_type": "stream",
     "text": [
      "0.142147602125\n",
      "[ 0.76924137 -0.63084172 -0.22282012 -0.21001929]\n",
      "[9, 72, 18, 90]\n"
     ]
    }
   ],
   "source": [
    "trial_set = [0, 6, 1, 13]\n",
    "X_small = X[:,trial_set]\n",
    "metric = np.dot(np.transpose(X_small),np.dot(np.diag(W),X_small))\n",
    "beta = np.dot(np.linalg.pinv(metric),np.dot(np.transpose(X_small),np.dot(np.diag(W),y)))\n",
    "res = np.dot(X_small,beta) - y\n",
    "wrms = np.dot(res,np.dot(np.diag(W),res))\n",
    "print wrms\n",
    "print beta\n",
    "print [gga_space[i] for i in trial_set] "
   ]
  },
  {
   "cell_type": "code",
   "execution_count": 22,
   "metadata": {
    "collapsed": false,
    "scrolled": true
   },
   "outputs": [
    {
     "name": "stdout",
     "output_type": "stream",
     "text": [
      "[2.9105266668670868, 0.72895423142471194, 0.49547625598040557, -0.17447223788776775]\n"
     ]
    },
    {
     "data": {
      "image/png": "[encoded data removed]",
      "text/plain": [
       "<matplotlib.figure.Figure at 0x1116edb90>"
      ]
     },
     "metadata": {},
     "output_type": "display_data"
    }
   ],
   "source": [
    "print lars_obj.max_corr_vs_iter\n",
    "lars_obj.make_plots()"
   ]
  },
  {
   "cell_type": "code",
   "execution_count": 23,
   "metadata": {
    "collapsed": false
   },
   "outputs": [
    {
     "data": {
      "image/png": "[encoded data removed]",
      "text/plain": [
       "<matplotlib.figure.Figure at 0x119bf8e50>"
      ]
     },
     "metadata": {},
     "output_type": "display_data"
    }
   ],
   "source": [
    "fig = plt.figure()\n",
    "ax = fig.add_subplot(111)\n",
    "for i in range(lars_obj.m):\n",
    "      ax.plot(range(4),lars_obj.coefs_vs_iter[i][:4],'xb-',label=\"Coefficient \"+str(i))\n",
    "plt.show()"
   ]
  },
  {
   "cell_type": "code",
   "execution_count": 24,
   "metadata": {
    "collapsed": false
   },
   "outputs": [
    {
     "name": "stdout",
     "output_type": "stream",
     "text": [
      "we seem to be unable to progress though we have not included all parameters\n",
      "printing indices used throughout iterations\n",
      "[[], [0, 6], [0, 6, 1], [0, 6, 1, 13]]\n"
     ]
    }
   ],
   "source": [
    "#lasso\n",
    "lasso_obj = LARS(wX,wy,1)\n",
    "lasso_obj.train()"
   ]
  },
  {
   "cell_type": "code",
   "execution_count": 25,
   "metadata": {
    "collapsed": false
   },
   "outputs": [
    {
     "data": {
      "image/png": "[encoded data removed]",
      "text/plain": [
       "<matplotlib.figure.Figure at 0x1116b1650>"
      ]
     },
     "metadata": {},
     "output_type": "display_data"
    }
   ],
   "source": [
    "lasso_obj.make_plots()"
   ]
  },
  {
   "cell_type": "code",
   "execution_count": 26,
   "metadata": {
    "collapsed": false
   },
   "outputs": [
    {
     "data": {
      "image/png": "[encoded data removed]",
      "text/plain": [
       "<matplotlib.figure.Figure at 0x11997e910>"
      ]
     },
     "metadata": {},
     "output_type": "display_data"
    }
   ],
   "source": [
    "fig = plt.figure()\n",
    "ax = fig.add_subplot(111)\n",
    "for i in range(lasso_obj.m):\n",
    "      ax.plot(range(4),lasso_obj.coefs_vs_iter[i][:4],'xb-',label=\"Coefficient \"+str(i))\n",
    "plt.show()"
   ]
  },
  {
   "cell_type": "code",
   "execution_count": null,
   "metadata": {
    "collapsed": true
   },
   "outputs": [],
   "source": []
  }
 ],
 "metadata": {
  "kernelspec": {
   "display_name": "Python 2",
   "language": "python",
   "name": "python2"
  },
  "language_info": {
   "codemirror_mode": {
    "name": "ipython",
    "version": 2
   },
   "file_extension": ".py",
   "mimetype": "text/x-python",
   "name": "python",
   "nbconvert_exporter": "python",
   "pygments_lexer": "ipython2",
   "version": "2.7.10"
  }
 },
 "nbformat": 4,
 "nbformat_minor": 0
}
