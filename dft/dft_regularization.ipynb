{
 "cells": [
  {
   "cell_type": "code",
   "execution_count": 1,
   "metadata": {
    "collapsed": false
   },
   "outputs": [],
   "source": [
    "%matplotlib inline\n",
    "import numpy as np\n",
    "import os\n",
    "import sys\n",
    "import math\n",
    "import matplotlib.pyplot as plt\n",
    "sys.path.append(os.getcwd()+'/../')\n",
    "sys.path.append(os.getcwd()+'/../nonlinear_solvers')\n",
    "sys.path.append(os.getcwd()+'/../stat_tests')\n",
    "from lasso import lasso\n",
    "from lars import LARS\n",
    "\n",
    "\n",
    "\n",
    "rootdir=os.getcwd()\n",
    "\n",
    "DatapointEnergies=np.loadtxt(open(rootdir+'/SR_LSDAPW92VV10_w0p3-cx0p15-4258_QZVPPD_250974_Energies.csv'))\n",
    "DatapointJacobian=np.loadtxt(open(rootdir+'/SR_LSDAPW92VV10_w0p3-cx0p15-4258_QZVPPD_250974_Jacobian.csv'),delimiter=\",\")\n",
    "RefValues=np.loadtxt(open(rootdir+'/Reference_New.csv'))\n",
    "WTrainDiagonal=np.loadtxt(open(rootdir+'/WTrainDiagonal_Attempt26.csv'))\n",
    "WTotalDiagonal=np.loadtxt(open(rootdir+'/WTotalDiagonal_Attempt26.csv'))"
   ]
  },
  {
   "cell_type": "code",
   "execution_count": 2,
   "metadata": {
    "collapsed": false
   },
   "outputs": [
    {
     "data": {
      "text/plain": [
       "(3835,)"
      ]
     },
     "execution_count": 2,
     "metadata": {},
     "output_type": "execute_result"
    }
   ],
   "source": [
    "RefValues.shape"
   ]
  },
  {
   "cell_type": "code",
   "execution_count": 3,
   "metadata": {
    "collapsed": false
   },
   "outputs": [
    {
     "name": "stdout",
     "output_type": "stream",
     "text": [
      "(3835,)\n"
     ]
    }
   ],
   "source": [
    "y = np.array(RefValues - DatapointEnergies)\n",
    "print y.shape"
   ]
  },
  {
   "cell_type": "code",
   "execution_count": 4,
   "metadata": {
    "collapsed": false
   },
   "outputs": [],
   "source": [
    "W = np.array(WTrainDiagonal)\n",
    "W_test = np.array(WTotalDiagonal - WTrainDiagonal)"
   ]
  },
  {
   "cell_type": "code",
   "execution_count": 5,
   "metadata": {
    "collapsed": false
   },
   "outputs": [
    {
     "data": {
      "text/plain": [
       "(3835, 76)"
      ]
     },
     "execution_count": 5,
     "metadata": {},
     "output_type": "execute_result"
    }
   ],
   "source": [
    "X = np.array(DatapointJacobian)\n",
    "#X = np.column_stack((X[:,1:45],X[:,46:90],X[:,91:135] ))\n",
    "X = X[:,[1,2,9,10,11,18,19,20,46,47,48,49,50,51,54,55,56,57,58,59,60,63,64,65,66,67,68,69,72,73,74,75,76,77,78,81,82,83,84,85,86,87,91,92,93,94,95,96,99,100,101,102,103,104,105,108,109,110,111,112,113,114,117,118,119,120,121,122,123,126,127,128,129,130,131,132]]\n",
    "#X = X[:,[9,18,27,36,54,63,72,81,99,108,117,126]]\n",
    "X.shape"
   ]
  },
  {
   "cell_type": "code",
   "execution_count": 6,
   "metadata": {
    "collapsed": false
   },
   "outputs": [
    {
     "name": "stdout",
     "output_type": "stream",
     "text": [
      "the eigenvalues of the metric\n",
      "[  5.45722716e+01   1.39364677e+01   4.85955298e+00   1.05294554e+00\n",
      "   2.71119807e-01   1.27032488e-01   3.12488249e-02   2.11304054e-02\n",
      "   1.22640940e-02   5.36030169e-03   3.09266206e-03   2.19789607e-03\n",
      "   1.94299201e-03   1.03096045e-03   4.07759408e-04   3.47316062e-04\n",
      "   2.08373692e-04   1.17799571e-04   9.16315944e-05   7.30994142e-05\n",
      "   5.33841976e-05   4.17851828e-05   3.64643346e-05   1.99153279e-05\n",
      "   1.64217516e-05   1.20066426e-05   8.95217271e-06   6.23401569e-06\n",
      "   4.18979689e-06   3.30812350e-06   2.65221870e-06   1.79745278e-06\n",
      "   1.15099836e-06   6.09387625e-07   5.53202874e-07   4.80876458e-07\n",
      "   3.29479518e-07   2.55540992e-07   1.73612849e-07   1.50550859e-07\n",
      "   1.21378623e-07   8.59354769e-08   6.26577789e-08   3.77379538e-08\n",
      "   2.78074821e-08   2.70508379e-08   1.86621998e-08   1.04515600e-08\n",
      "   7.68302556e-09   6.12914080e-09   3.91369303e-09   3.32188793e-09\n",
      "   1.68762176e-09   1.14277629e-09   8.05531289e-10   6.91407523e-10\n",
      "   4.47570860e-10   2.74389981e-10   1.78087387e-10   1.05925578e-10\n",
      "   7.77480861e-11   6.08574039e-11   5.54676827e-11   2.77873184e-11\n",
      "   1.32289911e-11   8.88199881e-12   7.21705500e-12   1.82655515e-12\n",
      "   1.17622288e-12   6.72157888e-13   3.96485013e-13   1.60315342e-13\n",
      "   1.29123837e-13   5.90868547e-14   1.56341085e-14   4.98938439e-15]\n",
      "2.22044604925e-16\n",
      "number of nonzero  48\n",
      "(76,)\n",
      "[  2.73881001e-01   9.52679696e-02   9.63055327e-01  -2.42365657e+00\n",
      "  -1.53806221e+00  -1.42610620e+00   1.41404577e+01   1.92887273e+01\n",
      "   2.35669306e+01  -3.56689541e+01  -9.55630170e+01   1.63934333e+02\n",
      "   1.08534894e+02  -2.51550976e+02  -6.79875050e+00  -2.57685895e+02\n",
      "   1.14326525e+02   8.26979304e+02  -8.08408119e+02  -4.48672379e+02\n",
      "   1.34993097e+03   2.56169538e+01   9.11543371e+02   7.17630920e+01\n",
      "  -2.56986053e+03   1.19019542e+03   8.33084778e+02  -3.15185303e+03\n",
      "  -3.53205723e+01  -1.26031491e+03  -6.95669716e+02   3.19608767e+03\n",
      "   5.14608887e+02   4.21912842e+01   2.77967773e+03   1.60044419e+01\n",
      "   6.01799208e+02   5.96080029e+02  -1.35181993e+03  -1.27843629e+03\n",
      "  -9.13487854e+02  -8.92030762e+02  -5.85409794e+00   1.83364407e+01\n",
      "   2.88090938e+00  -4.38219715e+01  -2.02760118e+01   6.40621325e+01\n",
      "  -5.39444863e+00   2.10714483e+00  -2.33342581e+02  -1.13170583e+02\n",
      "   2.25457428e+02  -5.56783703e+02  -8.73666397e+02   3.45440391e+01\n",
      "  -1.17774773e+01   1.19635866e+03   2.95004930e+03   6.52181969e+03\n",
      "   1.23126154e+04   7.77244688e+03  -1.30197012e+02  -9.77025604e+02\n",
      "  -5.55325409e+03  -3.96923373e+03   1.01762987e+04   1.00225681e+04\n",
      "   5.18738876e+02   1.04514696e+02   9.59058945e+02   5.09692072e+03\n",
      "   8.13500214e+03   5.43368967e+03   5.19977357e+03   3.61724808e+03]\n"
     ]
    }
   ],
   "source": [
    "metric = np.dot(np.transpose(X),np.dot(np.diag(W),X))\n",
    "U,s,V = np.linalg.svd(metric) #NB svals are decreasing\n",
    "print 'the eigenvalues of the metric'\n",
    "print s\n",
    "print(np.finfo(float).eps)\n",
    "tol = 1.0E-8\n",
    "n_indep = s.size\n",
    "for i in s:\n",
    "    if (i < tol):\n",
    "        n_indep = n_indep - 1\n",
    "print 'number of nonzero ',n_indep\n",
    "if n_indep > 0:\n",
    "    metric_inv = np.dot(U[:,:n_indep],np.dot(np.diag(s[:n_indep]**-1),np.transpose(U[:,:n_indep])))\n",
    "else:\n",
    "    print 'poorly posed problem in linear_regression'\n",
    "    sys.exit(1)\n",
    "#beta = np.dot(metric_inv,np.dot(np.transpose(X),np.dot(np.diag(W),y)))\n",
    "beta = np.dot(np.linalg.pinv(metric),np.dot(np.transpose(X),np.dot(np.diag(W),y)))\n",
    "print beta.shape\n",
    "print beta"
   ]
  },
  {
   "cell_type": "code",
   "execution_count": 7,
   "metadata": {
    "collapsed": false
   },
   "outputs": [
    {
     "name": "stdout",
     "output_type": "stream",
     "text": [
      "we seem to be unable to progress though we have not included all parameters\n",
      "printing indices used throughout iterations\n",
      "[[], [2, 3], [2, 3, 28], [2, 3, 28, 8], [2, 3, 28, 8, 5], [2, 3, 28, 8, 5, 4]]\n"
     ]
    }
   ],
   "source": [
    "#LARS\n",
    "lars_obj = LARS(X,y,0)\n",
    "lars_obj.train()"
   ]
  },
  {
   "cell_type": "code",
   "execution_count": 8,
   "metadata": {
    "collapsed": false,
    "scrolled": true
   },
   "outputs": [
    {
     "data": {
      "image/png": "[encoded data removed]",
      "text/plain": [
       "<matplotlib.figure.Figure at 0x1041b6390>"
      ]
     },
     "metadata": {},
     "output_type": "display_data"
    }
   ],
   "source": [
    "lars_obj.make_plots()"
   ]
  },
  {
   "cell_type": "code",
   "execution_count": 9,
   "metadata": {
    "collapsed": false
   },
   "outputs": [
    {
     "data": {
      "image/png": "[encoded data removed]",
      "text/plain": [
       "<matplotlib.figure.Figure at 0x10730e810>"
      ]
     },
     "metadata": {},
     "output_type": "display_data"
    }
   ],
   "source": [
    "fig = plt.figure()\n",
    "ax = fig.add_subplot(111)\n",
    "for i in range(lars_obj.m):\n",
    "      ax.plot(range(6),lars_obj.coefs_vs_iter[i][:6],'xb-',label=\"Coefficient \"+str(i))\n",
    "plt.show()"
   ]
  },
  {
   "cell_type": "code",
   "execution_count": 10,
   "metadata": {
    "collapsed": false
   },
   "outputs": [
    {
     "name": "stdout",
     "output_type": "stream",
     "text": [
      "we seem to be unable to progress though we have not included all parameters\n",
      "printing indices used throughout iterations\n",
      "[[], [2, 3], [2, 3, 28], [2, 3, 28, 8], [2, 3, 8], [2, 3, 8, 28], [2, 8, 28], [2, 28], [28]]\n"
     ]
    }
   ],
   "source": [
    "#lasso\n",
    "lasso_obj = LARS(X,y,1)\n",
    "lasso_obj.train()"
   ]
  },
  {
   "cell_type": "code",
   "execution_count": 11,
   "metadata": {
    "collapsed": false
   },
   "outputs": [
    {
     "data": {
      "image/png": "[encoded data removed]",
      "text/plain": [
       "<matplotlib.figure.Figure at 0x10730db90>"
      ]
     },
     "metadata": {},
     "output_type": "display_data"
    }
   ],
   "source": [
    "lasso_obj.make_plots()"
   ]
  },
  {
   "cell_type": "code",
   "execution_count": 13,
   "metadata": {
    "collapsed": false
   },
   "outputs": [
    {
     "data": {
      "image/png": "[encoded data removed]",
      "text/plain": [
       "<matplotlib.figure.Figure at 0x10f592f90>"
      ]
     },
     "metadata": {},
     "output_type": "display_data"
    }
   ],
   "source": [
    "fig = plt.figure()\n",
    "ax = fig.add_subplot(111)\n",
    "for i in range(lasso_obj.m):\n",
    "      ax.plot(range(9),lasso_obj.coefs_vs_iter[i][:9],'xb-',label=\"Coefficient \"+str(i))\n",
    "plt.show()"
   ]
  },
  {
   "cell_type": "code",
   "execution_count": null,
   "metadata": {
    "collapsed": true
   },
   "outputs": [],
   "source": []
  }
 ],
 "metadata": {
  "kernelspec": {
   "display_name": "Python 2",
   "language": "python",
   "name": "python2"
  },
  "language_info": {
   "codemirror_mode": {
    "name": "ipython",
    "version": 2
   },
   "file_extension": ".py",
   "mimetype": "text/x-python",
   "name": "python",
   "nbconvert_exporter": "python",
   "pygments_lexer": "ipython2",
   "version": "2.7.10"
  }
 },
 "nbformat": 4,
 "nbformat_minor": 0
}
